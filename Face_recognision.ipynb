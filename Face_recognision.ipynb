{
 "cells": [
  {
   "cell_type": "code",
   "execution_count": 1,
   "id": "d723da5b",
   "metadata": {},
   "outputs": [
    {
     "name": "stdout",
     "output_type": "stream",
     "text": [
      "Collecting opencv-contrib-pythonNote: you may need to restart the kernel to use updated packages.\n",
      "\n",
      "  Downloading opencv_contrib_python-4.10.0.84-cp37-abi3-win_amd64.whl (45.5 MB)\n",
      "     ---------------------------------------- 45.5/45.5 MB 2.1 MB/s eta 0:00:00\n",
      "Requirement already satisfied: numpy>=1.19.3 in c:\\users\\spurt\\anaconda3\\lib\\site-packages (from opencv-contrib-python) (1.23.5)\n",
      "Installing collected packages: opencv-contrib-python\n",
      "Successfully installed opencv-contrib-python-4.10.0.84\n"
     ]
    }
   ],
   "source": [
    "pip install opencv-contrib-python"
   ]
  },
  {
   "cell_type": "code",
   "execution_count": 2,
   "id": "ad90f21b",
   "metadata": {},
   "outputs": [
    {
     "name": "stdout",
     "output_type": "stream",
     "text": [
      "['BIF', 'BIF_create', 'BasicFaceRecognizer', 'EigenFaceRecognizer', 'EigenFaceRecognizer_create', 'FaceRecognizer', 'Facemark', 'FacemarkAAM', 'FacemarkKazemi', 'FacemarkLBF', 'FacemarkTrain', 'FisherFaceRecognizer', 'FisherFaceRecognizer_create', 'LBPHFaceRecognizer', 'LBPHFaceRecognizer_create', 'MACE', 'MACE_create', 'MACE_load', 'PredictCollector', 'StandardCollector', 'StandardCollector_create', '__doc__', '__file__', '__loader__', '__name__', '__package__', '__path__', '__spec__', '_native', 'createFacemarkAAM', 'createFacemarkKazemi', 'createFacemarkLBF', 'drawFacemarks', 'getFacesHAAR', 'loadDatasetList', 'loadFacePoints', 'loadTrainingData']\n"
     ]
    }
   ],
   "source": [
    "import cv2\n",
    "print(dir(cv2.face))"
   ]
  },
  {
   "cell_type": "code",
   "execution_count": 3,
   "id": "b48cc59e",
   "metadata": {},
   "outputs": [
    {
     "name": "stdout",
     "output_type": "stream",
     "text": [
      "LBPHFaceRecognizer is available.\n"
     ]
    }
   ],
   "source": [
    "import cv2\n",
    "\n",
    "try:\n",
    "    recognizer = cv2.face.LBPHFaceRecognizer_create()\n",
    "    print(\"LBPHFaceRecognizer is available.\")\n",
    "except AttributeError:\n",
    "    print(\"LBPHFaceRecognizer is NOT available.\")"
   ]
  },
  {
   "cell_type": "code",
   "execution_count": 45,
   "id": "1cf376d6",
   "metadata": {},
   "outputs": [
    {
     "name": "stdout",
     "output_type": "stream",
     "text": [
      "Preparing training data...\n",
      "Training data prepared: 75 faces.\n",
      "Training the recognizer...\n",
      "Training completed!\n",
      "Model saved as face_recognizer.yml\n",
      "Recognized as: Ratan Tata (Confidence: 95.276940369416)\n"
     ]
    }
   ],
   "source": [
    "import cv2\n",
    "import os\n",
    "import numpy as np\n",
    "\n",
    "# Paths\n",
    "dataset_path = \"C:/Users/spurt/OneDrive/Desktop/dataset/dataset\"  # Update with your dataset path\n",
    "haar_cascade_path = cv2.data.haarcascades + \"haarcascade_frontalface_default.xml\"\n",
    "model_path = \"face_recognizer.yml\"\n",
    "\n",
    "# Load Haar Cascade for face detection\n",
    "face_cascade = cv2.CascadeClassifier(haar_cascade_path)\n",
    "\n",
    "# Function to prepare training data\n",
    "def prepare_training_data(dataset_path):\n",
    "    faces = []\n",
    "    labels = []\n",
    "    label_map = {}  # Map to store names with labels\n",
    "    current_label = 0\n",
    "\n",
    "    # Traverse the dataset directory\n",
    "    for person_name in os.listdir(dataset_path):\n",
    "        person_folder = os.path.join(dataset_path, person_name)\n",
    "\n",
    "        if not os.path.isdir(person_folder):\n",
    "            continue\n",
    "\n",
    "        # Assign label to the person\n",
    "        label_map[current_label] = person_name\n",
    "\n",
    "        # Process each image in the person's folder\n",
    "        for image_name in os.listdir(person_folder):\n",
    "            image_path = os.path.join(person_folder, image_name)\n",
    "            img = cv2.imread(image_path, cv2.IMREAD_GRAYSCALE)\n",
    "\n",
    "            if img is None:\n",
    "                print(f\"Could not read image {image_path}. Skipping.\")\n",
    "                continue\n",
    "\n",
    "            # Append face and label\n",
    "            faces.append(img)\n",
    "            labels.append(current_label)\n",
    "\n",
    "        current_label += 1\n",
    "\n",
    "    return faces, np.array(labels), label_map\n",
    "\n",
    "# Train the model\n",
    "def train_model():\n",
    "    print(\"Preparing training data...\")\n",
    "    faces, labels, label_map = prepare_training_data(dataset_path)\n",
    "    print(f\"Training data prepared: {len(faces)} faces.\")\n",
    "\n",
    "    # Initialize LBPH recognizer\n",
    "    recognizer = cv2.face.LBPHFaceRecognizer_create()\n",
    "\n",
    "    # Train recognizer\n",
    "    print(\"Training the recognizer...\")\n",
    "    recognizer.train(faces, labels)\n",
    "    print(\"Training completed!\")\n",
    "\n",
    "    # Save the model\n",
    "    recognizer.save(model_path)\n",
    "    print(f\"Model saved as {model_path}\")\n",
    "    return label_map\n",
    "\n",
    "# Recognize the person in the test image\n",
    "def recognize_face(test_image_path, label_map):\n",
    "    # Load the trained recognizer\n",
    "    recognizer = cv2.face.LBPHFaceRecognizer_create()\n",
    "    recognizer.read(model_path)\n",
    "\n",
    "    # Read and process the test image\n",
    "    img = cv2.imread(test_image_path)\n",
    "    if img is None:\n",
    "        raise FileNotFoundError(f\"Could not load the test image: {test_image_path}\")\n",
    "\n",
    "    gray = cv2.cvtColor(img, cv2.COLOR_BGR2GRAY)\n",
    "\n",
    "    # Detect faces\n",
    "    faces = face_cascade.detectMultiScale(gray, scaleFactor=1.1, minNeighbors=5, minSize=(30, 30))\n",
    "\n",
    "    if len(faces) == 0:\n",
    "        print(\"No faces detected.\")\n",
    "        return\n",
    "\n",
    "    for (x, y, w, h) in faces:\n",
    "        face = gray[y:y + h, x:x + w]\n",
    "\n",
    "        # Recognize face\n",
    "        label, confidence = recognizer.predict(face)\n",
    "\n",
    "        # Check if the label exists in the map\n",
    "        if label in label_map:\n",
    "            person_recognized = label_map[label]\n",
    "        else:\n",
    "            person_recognized = \"Unknown\"\n",
    "\n",
    "        print(f\"Recognized as: {person_recognized} (Confidence: {confidence})\")\n",
    "\n",
    "        # Draw rectangle and label\n",
    "        cv2.rectangle(img, (x, y), (x + w, y + h), (255, 0, 0), 2)\n",
    "        cv2.putText(img, person_recognized, (x, y - 10), cv2.FONT_HERSHEY_SIMPLEX, 0.5, (255, 0, 0), 2)\n",
    "\n",
    "    # Display the result\n",
    "    cv2.imshow(\"Face Recognition\", img)\n",
    "    cv2.waitKey(0)\n",
    "    cv2.destroyAllWindows()\n",
    "\n",
    "# Train the model and get the label map\n",
    "label_map = train_model()\n",
    "\n",
    "# Test the recognizer with a specific image\n",
    "test_image_path = \"C:/Users/spurt/OneDrive/Desktop/images (10).jpeg\" # Update with your test image path\n",
    "recognize_face(test_image_path, label_map)"
   ]
  },
  {
   "cell_type": "code",
   "execution_count": null,
   "id": "2dbf65e5",
   "metadata": {},
   "outputs": [],
   "source": []
  },
  {
   "cell_type": "code",
   "execution_count": null,
   "id": "785d8474",
   "metadata": {},
   "outputs": [],
   "source": []
  },
  {
   "cell_type": "code",
   "execution_count": null,
   "id": "b031b33c",
   "metadata": {},
   "outputs": [],
   "source": []
  },
  {
   "cell_type": "code",
   "execution_count": null,
   "id": "1cd67df2",
   "metadata": {},
   "outputs": [],
   "source": []
  }
 ],
 "metadata": {
  "kernelspec": {
   "display_name": "Python 3 (ipykernel)",
   "language": "python",
   "name": "python3"
  },
  "language_info": {
   "codemirror_mode": {
    "name": "ipython",
    "version": 3
   },
   "file_extension": ".py",
   "mimetype": "text/x-python",
   "name": "python",
   "nbconvert_exporter": "python",
   "pygments_lexer": "ipython3",
   "version": "3.10.9"
  }
 },
 "nbformat": 4,
 "nbformat_minor": 5
}
